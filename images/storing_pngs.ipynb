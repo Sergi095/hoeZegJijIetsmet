{
 "cells": [
  {
   "cell_type": "code",
   "execution_count": 80,
   "metadata": {},
   "outputs": [],
   "source": [
    "import os \n",
    "import sys\n",
    "\n",
    "\n",
    "\n",
    "# get pictos from higher directory and show names\n",
    "\n",
    "pictos_old = os.listdir(\"pictos\")\n",
    "\n",
    "picto_path = os.path.abspath(\"pictos\")\n",
    "pictos_old_abs_path = os.path.abspath(\"pictos/\")\n"
   ]
  },
  {
   "cell_type": "code",
   "execution_count": 81,
   "metadata": {},
   "outputs": [],
   "source": [
    "\n",
    "pictos_old = os.listdir(\"pictos\")\n",
    "\n",
    "picto_path = os.path.abspath(\"pictos\")\n",
    "pictos_old_abs_path = os.path.abspath(\"pictos/\")\n",
    "pictos_new_path = os.path.abspath(\"../pictos/pictos/\")\n"
   ]
  },
  {
   "cell_type": "code",
   "execution_count": 77,
   "metadata": {},
   "outputs": [],
   "source": [
    "pictos_new_ = {}\n",
    "pictos_old_ = {}\n",
    "\n",
    "letters = [\"A\", \"B\", \"C\", \"D\", \"E\", \"F\", \"X\", \"Y\"]\n",
    "\n",
    "# Initialize the dictionary with empty lists for each folder\n",
    "for letter in letters:\n",
    "    pictos_new_[f'{letter}1-8'] = []\n",
    "\n",
    "# Categorize pictos into the appropriate folder\n",
    "for letter in letters:\n",
    "    for picto in pictos_new:\n",
    "        if letter in picto:\n",
    "            pictos_new_[f'{letter}1-8'].append(picto)\n",
    "\n",
    "\n",
    "destination_paths = []\n",
    "for letter in letters:\n",
    "    destination_paths.append(f\"{picto_path}/{letter}1-8/\")\n"
   ]
  },
  {
   "cell_type": "code",
   "execution_count": 68,
   "metadata": {},
   "outputs": [
    {
     "name": "stdout",
     "output_type": "stream",
     "text": [
      "[12, 0, 12, 13, 11, 12, 10, 9] A B C D E F X Y\n"
     ]
    },
    {
     "data": {
      "text/plain": [
       "[['Pictograms 100_A1.png',\n",
       "  'Pictograms 100_A2.png',\n",
       "  'Pictograms 100_A3.png',\n",
       "  'Pictograms 100_A4.png',\n",
       "  'Pictograms 100_A5.png',\n",
       "  'Pictograms 100_A6.png',\n",
       "  'Pictograms 125_A1.png',\n",
       "  'Pictograms 125_A2.png',\n",
       "  'Pictograms 125_A3.png',\n",
       "  'Pictograms 125_A4.png',\n",
       "  'Pictograms 125_A5.png',\n",
       "  'Pictograms 125_A6.png'],\n",
       " [],\n",
       " ['Pictograms 100_C1.png',\n",
       "  'Pictograms 100_C2.png',\n",
       "  'Pictograms 100_C3.png',\n",
       "  'Pictograms 100_C4.png',\n",
       "  'Pictograms 100_C5.png',\n",
       "  'Pictograms 100_C6.png',\n",
       "  'Pictograms 125_C1.png',\n",
       "  'Pictograms 125_C2.png',\n",
       "  'Pictograms 125_C3.png',\n",
       "  'Pictograms 125_C4.png',\n",
       "  'Pictograms 125_C5.png',\n",
       "  'Pictograms 125_C6.png'],\n",
       " ['.DS_Store',\n",
       "  'Pictograms 100_D1.png',\n",
       "  'Pictograms 100_D2.png',\n",
       "  'Pictograms 100_D3.png',\n",
       "  'Pictograms 100_D4.png',\n",
       "  'Pictograms 100_D5.png',\n",
       "  'Pictograms 100_D6.png',\n",
       "  'Pictograms 125_D1.png',\n",
       "  'Pictograms 125_D2.png',\n",
       "  'Pictograms 125_D3.png',\n",
       "  'Pictograms 125_D4.png',\n",
       "  'Pictograms 125_D5.png',\n",
       "  'Pictograms 125_D6.png'],\n",
       " ['Pictograms 100_E1.png',\n",
       "  'Pictograms 100_E2.png',\n",
       "  'Pictograms 100_E3.png',\n",
       "  'Pictograms 100_E4.png',\n",
       "  'Pictograms 100_E6.png',\n",
       "  'Pictograms 125_E1.png',\n",
       "  'Pictograms 125_E2.png',\n",
       "  'Pictograms 125_E3.png',\n",
       "  'Pictograms 125_E4.png',\n",
       "  'Pictograms 125_E5.png',\n",
       "  'Pictograms 125_E6.png'],\n",
       " ['Pictograms 100_F1.png',\n",
       "  'Pictograms 100_F2.png',\n",
       "  'Pictograms 100_F3.png',\n",
       "  'Pictograms 100_F4.png',\n",
       "  'Pictograms 100_F5.png',\n",
       "  'Pictograms 100_F6.png',\n",
       "  'Pictograms 125_F1.png',\n",
       "  'Pictograms 125_F2.png',\n",
       "  'Pictograms 125_F3.png',\n",
       "  'Pictograms 125_F4.png',\n",
       "  'Pictograms 125_F5.png',\n",
       "  'Pictograms 125_F6.png'],\n",
       " ['Pictograms 100_X1.png',\n",
       "  'Pictograms 100_X2.png',\n",
       "  'Pictograms 100_X3.png',\n",
       "  'Pictograms 100_X4.png',\n",
       "  'Pictograms 100_X5.png',\n",
       "  'Pictograms 125_X1.png',\n",
       "  'Pictograms 125_X2.png',\n",
       "  'Pictograms 125_X3.png',\n",
       "  'Pictograms 125_X4.png',\n",
       "  'Pictograms 125_X5.png'],\n",
       " ['Pictograms 100_Y1.png',\n",
       "  'Pictograms 100_Y2.png',\n",
       "  'Pictograms 100_Y3.png',\n",
       "  'Pictograms 100_Y4.png',\n",
       "  'Pictograms 100_Y5.png',\n",
       "  'Pictograms 125_Y1.png',\n",
       "  'Pictograms 125_Y2.png',\n",
       "  'Pictograms 125_Y3.png',\n",
       "  'Pictograms 125_Y4.png']]"
      ]
     },
     "execution_count": 68,
     "metadata": {},
     "output_type": "execute_result"
    }
   ],
   "source": [
    "print([len(pictos_new_[keys]) for keys in pictos_new_], \"A B C D E F X Y\")\n",
    "[sorted(pictos_new_[keys]) for keys in pictos_new_]"
   ]
  }
 ],
 "metadata": {
  "kernelspec": {
   "display_name": "swarm",
   "language": "python",
   "name": "python3"
  },
  "language_info": {
   "codemirror_mode": {
    "name": "ipython",
    "version": 3
   },
   "file_extension": ".py",
   "mimetype": "text/x-python",
   "name": "python",
   "nbconvert_exporter": "python",
   "pygments_lexer": "ipython3",
   "version": "3.9.18"
  }
 },
 "nbformat": 4,
 "nbformat_minor": 2
}
